{
  "nbformat": 4,
  "nbformat_minor": 0,
  "metadata": {
    "kernelspec": {
      "display_name": "Python 3",
      "language": "python",
      "name": "python3"
    },
    "language_info": {
      "codemirror_mode": {
        "name": "ipython",
        "version": 3
      },
      "file_extension": ".py",
      "mimetype": "text/x-python",
      "name": "python",
      "nbconvert_exporter": "python",
      "pygments_lexer": "ipython3",
      "version": "3.6.5"
    },
    "colab": {
      "name": "KNN.ipynb",
      "provenance": [],
      "toc_visible": true
    }
  },
  "cells": [
    {
      "cell_type": "markdown",
      "metadata": {
        "id": "pteCVvY5xpnq"
      },
      "source": [
        "# Реализуем метод predict_proba для KNN"
      ]
    },
    {
      "cell_type": "markdown",
      "metadata": {
        "id": "BWYsGHKxxpnz"
      },
      "source": [
        "Ниже реализован класс KNeighborsClassifier, который для поиска ближайших соседей использует sklearn.neighbors.NearestNeighbors\n",
        "\n",
        "Требуется реализовать метод predict_proba для вычисления ответа классификатора."
      ]
    },
    {
      "cell_type": "code",
      "metadata": {
        "id": "FD_LreACxpn0"
      },
      "source": [
        "import numpy as np\n",
        "\n",
        "from sklearn.base import BaseEstimator, ClassifierMixin\n",
        "from sklearn.neighbors import NearestNeighbors\n",
        "\n",
        "\n",
        "class KNeighborsClassifier(BaseEstimator, ClassifierMixin):\n",
        "    '''\n",
        "    Класс, который позволит нам изучить KNN\n",
        "    '''\n",
        "    def __init__(self, n_neighbors=5, weights='uniform', \n",
        "                 metric='minkowski', p=2):\n",
        "        '''\n",
        "        Инициализируем KNN с несколькими стандартными параметрами\n",
        "        '''\n",
        "        assert weights in ('uniform', 'distance')\n",
        "        \n",
        "        self.n_neighbors = n_neighbors\n",
        "        self.weights = weights\n",
        "        self.metric = metric\n",
        "        \n",
        "        self.NearestNeighbors = NearestNeighbors(\n",
        "            n_neighbors = n_neighbors,\n",
        "            metric = self.metric)\n",
        "    \n",
        "    def fit(self, X, y):\n",
        "        '''\n",
        "        Используем sklearn.neighbors.NearestNeighbors \n",
        "        для запоминания обучающей выборки\n",
        "        и последующего поиска соседей\n",
        "        '''\n",
        "        self.NearestNeighbors.fit(X)\n",
        "        self.n_classes = len(np.unique(y))\n",
        "        self.y = y\n",
        "        \n",
        "    def predict_proba(self, X, use_first_zero_distant_sample=True):\n",
        "        '''\n",
        "        Чтобы реализовать этот метод, \n",
        "        изучите работу sklearn.neighbors.NearestNeighbors'''\n",
        "        \n",
        "        # получим здесь расстояния до соседей distances и их метки\n",
        "        distances = self.NearestNeighbors.kneighbors(X)\n",
        "        if self.weights == 'uniform':\n",
        "            w = np.ones(distances[0].shape)\n",
        "        else:\n",
        "            # чтобы не делить на 0, \n",
        "            # добавим небольшую константу, например 1e-3\n",
        "            w = 1/(distances[0] + 1e-3)\n",
        "\n",
        "        # реализуем вычисление предсказаний:\n",
        "        #print(w.shape)\n",
        "        #print(w)\n",
        "        #print(self.y)\n",
        "        probs = np.zeros([w.shape[0], self.n_classes])\n",
        "        for i in range(w.shape[0]):\n",
        "          sum = 0\n",
        "          for j in range(w.shape[1]):\n",
        "            pred_for_neightbor = y[distances[1][i][j]]\n",
        "            sum += w[i][j]\n",
        "            probs[i][pred_for_neightbor] += w[i][j]  \n",
        "          probs[i] /= sum\n",
        "        # выбрав один объект, для каждого класса посчитаем\n",
        "        # суммарный вес голосующих за него объектов\n",
        "        # затем нормируем эти веса на их сумму\n",
        "        # и вернем это как предсказание KNN\n",
        "        return probs"
      ],
      "execution_count": 57,
      "outputs": []
    },
    {
      "cell_type": "markdown",
      "metadata": {
        "id": "ZszU2moAxpn2"
      },
      "source": [
        "# Загрузим данные и обучим классификатор"
      ]
    },
    {
      "cell_type": "code",
      "metadata": {
        "colab": {
          "base_uri": "https://localhost:8080/"
        },
        "id": "2iL6hyfAxpn2",
        "outputId": "4e29c0b4-38c0-4969-cde0-f8a21ba10e97"
      },
      "source": [
        "from sklearn.datasets import load_iris\n",
        "X, y = load_iris(return_X_y=True)\n",
        "\n",
        "knn = KNeighborsClassifier(weights='distance')\n",
        "knn.fit(X, y)\n",
        "prediction = knn.predict_proba(X )"
      ],
      "execution_count": 58,
      "outputs": [
        {
          "output_type": "stream",
          "text": [
            "(150, 5)\n",
            "[0 0 0 0 0 0 0 0 0 0 0 0 0 0 0 0 0 0 0 0 0 0 0 0 0 0 0 0 0 0 0 0 0 0 0 0 0\n",
            " 0 0 0 0 0 0 0 0 0 0 0 0 0 1 1 1 1 1 1 1 1 1 1 1 1 1 1 1 1 1 1 1 1 1 1 1 1\n",
            " 1 1 1 1 1 1 1 1 1 1 1 1 1 1 1 1 1 1 1 1 1 1 1 1 1 1 2 2 2 2 2 2 2 2 2 2 2\n",
            " 2 2 2 2 2 2 2 2 2 2 2 2 2 2 2 2 2 2 2 2 2 2 2 2 2 2 2 2 2 2 2 2 2 2 2 2 2\n",
            " 2 2]\n"
          ],
          "name": "stdout"
        }
      ]
    },
    {
      "cell_type": "markdown",
      "metadata": {
        "id": "eb6o1C2zxpn3"
      },
      "source": [
        "Поскольку мы используем одну и ту же выборку для обучения и предсказания, ближайшим соседом любого объекта будет он же сам. В качестве упражнения предлагаю реализовать метод transform, который реализует получение предсказаний для обучающей выборки, но для каждого объекта не будет учитывать его самого.\n",
        "\n",
        "Посмотрим, в каких объектах max(prediction) != 1:"
      ]
    },
    {
      "cell_type": "code",
      "metadata": {
        "colab": {
          "base_uri": "https://localhost:8080/"
        },
        "id": "i9nKe-vhxpn3",
        "outputId": "8b77038b-1016-4587-f218-b3760df83b2c"
      },
      "source": [
        "inds = np.arange(len(prediction))[prediction.max(1) != 1]\n",
        "print(inds)\n",
        "\n",
        "# [ 56  68  70  72  77  83 106 110 119 123 127 133 134 138 146]"
      ],
      "execution_count": 60,
      "outputs": [
        {
          "output_type": "stream",
          "text": [
            "[ 56  68  70  72  77  83 106 110 119 123 127 133 134 138 146]\n"
          ],
          "name": "stdout"
        }
      ]
    },
    {
      "cell_type": "markdown",
      "metadata": {
        "id": "4b7L7xIBxpn5"
      },
      "source": [
        "Несколько примеров, на которых можно проверить правильность реализованного метода:"
      ]
    },
    {
      "cell_type": "code",
      "metadata": {
        "colab": {
          "base_uri": "https://localhost:8080/"
        },
        "id": "vXvNftu9xpn5",
        "outputId": "aad68597-6760-4b1d-f78f-b6faf45fdb00"
      },
      "source": [
        "for i in 1, 4, -1:\n",
        "    print(inds[i], prediction[inds[i]])\n",
        "\n",
        "# 68 [0.         0.99816311 0.00183689]\n",
        "# 77 [0.         0.99527902 0.00472098]\n",
        "# 146 [0.         0.00239145 0.99760855]"
      ],
      "execution_count": 61,
      "outputs": [
        {
          "output_type": "stream",
          "text": [
            "68 [0.         0.99816311 0.00183689]\n",
            "77 [0.         0.99527902 0.00472098]\n",
            "146 [0.         0.00239145 0.99760855]\n"
          ],
          "name": "stdout"
        }
      ]
    },
    {
      "cell_type": "markdown",
      "metadata": {
        "id": "-uVEEpjhxpn6"
      },
      "source": [
        "**Примечание:** отличие в третьем-четвертом знаке после запятой в тестах не должно повлиять на сдачу задания"
      ]
    },
    {
      "cell_type": "markdown",
      "metadata": {
        "id": "cmwPmRcLxpn7"
      },
      "source": [
        "# Ответы для формы"
      ]
    },
    {
      "cell_type": "markdown",
      "metadata": {
        "id": "eUBvzl20xpn7"
      },
      "source": [
        "В форму требуется ввести max(prediction) для объекта. Если метод реализован верно, то ячейка ниже распечатает ответы, которые нужно ввести в форму"
      ]
    },
    {
      "cell_type": "code",
      "metadata": {
        "colab": {
          "base_uri": "https://localhost:8080/"
        },
        "id": "yP3ZvkBJxpn8",
        "outputId": "57b88ec8-aab9-4bb4-eb66-ed3b327744cb"
      },
      "source": [
        "for i in 56, 83, 127:\n",
        "    print('{:.2f}'.format(max(prediction[i])))"
      ],
      "execution_count": 62,
      "outputs": [
        {
          "output_type": "stream",
          "text": [
            "1.00\n",
            "0.99\n",
            "1.00\n"
          ],
          "name": "stdout"
        }
      ]
    },
    {
      "cell_type": "code",
      "metadata": {
        "id": "VavgA4ybxpn8"
      },
      "source": [
        ""
      ],
      "execution_count": null,
      "outputs": []
    }
  ]
}