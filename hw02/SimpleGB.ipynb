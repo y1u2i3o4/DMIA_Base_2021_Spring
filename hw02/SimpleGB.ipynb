{
  "nbformat": 4,
  "nbformat_minor": 0,
  "metadata": {
    "kernelspec": {
      "display_name": "Python 3",
      "language": "python",
      "name": "python3"
    },
    "language_info": {
      "codemirror_mode": {
        "name": "ipython",
        "version": 3
      },
      "file_extension": ".py",
      "mimetype": "text/x-python",
      "name": "python",
      "nbconvert_exporter": "python",
      "pygments_lexer": "ipython3",
      "version": "3.6.5"
    },
    "colab": {
      "name": "SimpleGB.ipynb",
      "provenance": []
    }
  },
  "cells": [
    {
      "cell_type": "markdown",
      "metadata": {
        "id": "7UVN4Im88O26"
      },
      "source": [
        "# Домашнее задание 2\n",
        "\n",
        "### Реализация градиентного бустинга для классификации"
      ]
    },
    {
      "cell_type": "markdown",
      "metadata": {
        "id": "q6gG1P3A8O3D"
      },
      "source": [
        "В рамках этой задачи нужно написать градиентный бустинг над решающими деревьями в задаче классификации. В качестве функции потерь предлагается взять **log loss**. Про него можно прочитать подробнее здесь: https://scikit-learn.org/stable/modules/model_evaluation.html#log-loss"
      ]
    },
    {
      "cell_type": "markdown",
      "metadata": {
        "id": "EK82rZeZ8O3E"
      },
      "source": [
        "\n",
        "$y_i$ это правильный ответ (0 или 1), $\\hat{y}_i$ это ваше предсказание\n",
        "\n",
        "Может показаться, что надо максимизировать функцию $L(\\hat{y}, y) = \\sum_{i=1}^n y_i \\log(\\hat{y}_i) + (1 - y_i) \\log(1 - \\hat{y}_i)$,\n",
        "\n",
        "Это так, но не совсем: лучше максимизировать функцию $L(\\hat{y}, y) = \\sum_{i=1}^n y_i \\log(f(\\hat{y}_i)) + (1 - y_i) \\log(1 - f(\\hat{y}_i))$, где $f(x) = \\frac{1}{1 + e^{-x}}$. Благодаря этому у вас не будет ограничений на принимаеммые значения для прогнозов $\\hat{y}_i$"
      ]
    },
    {
      "cell_type": "markdown",
      "metadata": {
        "id": "dkuQxUha8O3E"
      },
      "source": [
        "### Задание 1\n",
        "\n",
        "Функцию f(x), предложенную выше, обычно называют **сигмоида** или **сигмоидная функция**. Напишите функцию, вычисляющую значения производной функции f(x)."
      ]
    },
    {
      "cell_type": "code",
      "metadata": {
        "id": "RNg4J7oO8O3F"
      },
      "source": [
        "import numpy as np"
      ],
      "execution_count": 2,
      "outputs": []
    },
    {
      "cell_type": "code",
      "metadata": {
        "id": "GUjq0Bpy8O3G"
      },
      "source": [
        "def sigmoid(x):\n",
        "    return 1. / (1 + np.exp(-x))\n",
        "\n",
        "\n",
        "def der_sigmoid(x):\n",
        "    return np.exp(-x) / (1+np.exp(-x)) ** 2"
      ],
      "execution_count": 4,
      "outputs": []
    },
    {
      "cell_type": "code",
      "metadata": {
        "id": "ajFpuvV08O3G",
        "outputId": "ff9f9cb5-403c-41b5-c65b-264c6e708108",
        "colab": {
          "base_uri": "https://localhost:8080/"
        }
      },
      "source": [
        "der_sigmoid(0) == 0.25"
      ],
      "execution_count": 5,
      "outputs": [
        {
          "output_type": "execute_result",
          "data": {
            "text/plain": [
              "True"
            ]
          },
          "metadata": {
            "tags": []
          },
          "execution_count": 5
        }
      ]
    },
    {
      "cell_type": "code",
      "metadata": {
        "id": "A2tCM7Ye8O3G",
        "outputId": "55b911e6-d6bf-4731-ded2-8965144a3917",
        "colab": {
          "base_uri": "https://localhost:8080/"
        }
      },
      "source": [
        "der_sigmoid(np.array([0, 0])) == np.array([0.25, 0.25])"
      ],
      "execution_count": 6,
      "outputs": [
        {
          "output_type": "execute_result",
          "data": {
            "text/plain": [
              "array([ True,  True])"
            ]
          },
          "metadata": {
            "tags": []
          },
          "execution_count": 6
        }
      ]
    },
    {
      "cell_type": "code",
      "metadata": {
        "id": "m5qJXZGf8O3H",
        "outputId": "2fb06d87-5686-4267-fc33-819508454559",
        "colab": {
          "base_uri": "https://localhost:8080/"
        }
      },
      "source": [
        "der_sigmoid(np.log(3)) == 0.1875"
      ],
      "execution_count": 7,
      "outputs": [
        {
          "output_type": "execute_result",
          "data": {
            "text/plain": [
              "True"
            ]
          },
          "metadata": {
            "tags": []
          },
          "execution_count": 7
        }
      ]
    },
    {
      "cell_type": "markdown",
      "metadata": {
        "id": "MUlIENfx8O3H"
      },
      "source": [
        "**Значение для формы:**"
      ]
    },
    {
      "cell_type": "code",
      "metadata": {
        "id": "aaZAC_uC8O3I",
        "outputId": "2903df23-6131-4093-de4d-7b4608bb2895",
        "colab": {
          "base_uri": "https://localhost:8080/"
        }
      },
      "source": [
        "print(round(der_sigmoid(np.array([-10, 4.1, -1, 2])).sum() + sigmoid(0.42), 4))"
      ],
      "execution_count": 8,
      "outputs": [
        {
          "output_type": "stream",
          "text": [
            "0.9212\n"
          ],
          "name": "stdout"
        }
      ]
    },
    {
      "cell_type": "markdown",
      "metadata": {
        "id": "W9sYMA8O8O3I"
      },
      "source": [
        "Хорошо, теперь мы умеем считать производную функции f, но надо найти производную log loss-а по $\\hat{y}$ в первом варианте записи потерь\n",
        "\n",
        "Напоминание, первый вариант это  $y_i \\log(\\hat{y}_i) + (1 - y_i) \\log(1 - \\hat{y}_i)$"
      ]
    },
    {
      "cell_type": "markdown",
      "metadata": {
        "id": "pCLmnHBx8O3I"
      },
      "source": [
        "### Задание 2\n",
        "\n",
        "Напишите вычисление производной log loss-a"
      ]
    },
    {
      "cell_type": "code",
      "metadata": {
        "id": "Ua3hfr8D8O3J"
      },
      "source": [
        "def der_log_loss(y_hat, y_true):\n",
        "    \"\"\"\n",
        "    0 < y_hat < 1\n",
        "    \"\"\"\n",
        "    return y_true / y_hat - (1-y_true)/(1-y_hat)"
      ],
      "execution_count": 15,
      "outputs": []
    },
    {
      "cell_type": "code",
      "metadata": {
        "id": "XQW2sOaH8O3J",
        "outputId": "717a7959-4c85-4565-f090-410caa1d5006",
        "colab": {
          "base_uri": "https://localhost:8080/"
        }
      },
      "source": [
        "der_log_loss(0.5, 0) == -2"
      ],
      "execution_count": 16,
      "outputs": [
        {
          "output_type": "execute_result",
          "data": {
            "text/plain": [
              "True"
            ]
          },
          "metadata": {
            "tags": []
          },
          "execution_count": 16
        }
      ]
    },
    {
      "cell_type": "code",
      "metadata": {
        "id": "QO1bYSWn8O3J",
        "outputId": "c07340cc-57a0-4e18-8e6d-9071ba07b671",
        "colab": {
          "base_uri": "https://localhost:8080/"
        }
      },
      "source": [
        "der_log_loss(0.5, 1) == 2"
      ],
      "execution_count": 11,
      "outputs": [
        {
          "output_type": "execute_result",
          "data": {
            "text/plain": [
              "True"
            ]
          },
          "metadata": {
            "tags": []
          },
          "execution_count": 11
        }
      ]
    },
    {
      "cell_type": "code",
      "metadata": {
        "id": "nkxStgBG8O3K",
        "outputId": "d2a65ddd-cee0-44b3-e599-cfddda266761",
        "colab": {
          "base_uri": "https://localhost:8080/"
        }
      },
      "source": [
        "der_log_loss(np.array([0.8, 0.8]), np.array([1, 1])) == np.array([1.25, 1.25])"
      ],
      "execution_count": 12,
      "outputs": [
        {
          "output_type": "execute_result",
          "data": {
            "text/plain": [
              "array([ True,  True])"
            ]
          },
          "metadata": {
            "tags": []
          },
          "execution_count": 12
        }
      ]
    },
    {
      "cell_type": "markdown",
      "metadata": {
        "id": "X-y447VL8O3K"
      },
      "source": [
        "**Значение для формы**"
      ]
    },
    {
      "cell_type": "code",
      "metadata": {
        "id": "-70znyuK8O3K",
        "outputId": "b8d98638-0f27-4859-d158-390b76cb6fb2",
        "colab": {
          "base_uri": "https://localhost:8080/"
        }
      },
      "source": [
        "print(round(-sum(der_log_loss((x + 1) / 100., x % 2) for x in range(99)), 2))"
      ],
      "execution_count": 17,
      "outputs": [
        {
          "output_type": "stream",
          "text": [
            "69.82\n"
          ],
          "name": "stdout"
        }
      ]
    },
    {
      "cell_type": "markdown",
      "metadata": {
        "id": "VCzb4yVV8O3L"
      },
      "source": [
        "Теперь мы можем воспользоваться формулой производной сложной функции (chain rule) и получить вычисление градиента формулы по второму варианту:"
      ]
    },
    {
      "cell_type": "code",
      "metadata": {
        "id": "hmN81ji48O3L"
      },
      "source": [
        "def calc_gradient(y_hat, y_true):\n",
        "    return der_log_loss(sigmoid(y_hat), y_true) * der_sigmoid(y_hat)"
      ],
      "execution_count": 18,
      "outputs": []
    },
    {
      "cell_type": "markdown",
      "metadata": {
        "id": "iP3IKsuY8O3L"
      },
      "source": [
        "Теперь мы можем написать код градиентного бустинга для классификации"
      ]
    },
    {
      "cell_type": "markdown",
      "metadata": {
        "id": "GpueMt4X8O3L"
      },
      "source": [
        "### Задание 3\n",
        "\n",
        "Допишите класс"
      ]
    },
    {
      "cell_type": "code",
      "metadata": {
        "id": "u9BxVlec8O3M"
      },
      "source": [
        "from sklearn.base import BaseEstimator # чтобы поддержать интерфейс sklearn\n",
        "from sklearn.tree import DecisionTreeRegressor # для обучения на каждой итерации"
      ],
      "execution_count": 19,
      "outputs": []
    },
    {
      "cell_type": "code",
      "metadata": {
        "id": "BEl5Sq5w8O3M"
      },
      "source": [
        "class SimpleGB(BaseEstimator):\n",
        "    def __init__(self, tree_params_dict, iters=100, tau=1e-1):\n",
        "        \"\"\"\n",
        "        tree_params_dict - словарь параметров, которые надо использовать при обучении дерева на итерации\n",
        "        iters - количество итераций\n",
        "        tau - коэффициент перед предсказаниями деревьев на каждой итерации\n",
        "        \"\"\"\n",
        "        self.tree_params_dict = tree_params_dict\n",
        "        self.iters = iters\n",
        "        self.tau = tau\n",
        "        \n",
        "    def fit(self, X_data, y_data):\n",
        "        self.estimators = []\n",
        "        curr_pred = 0\n",
        "        for iter_num in range(self.iters):\n",
        "            # Нужно найти градиент функции потерь по предсказниям в точке curr_pred\n",
        "            grad = calc_gradient(curr_pred, y_data)\n",
        "            # Мы максимизируем, поэтому надо обучить DecisionTreeRegressor с параметрами \n",
        "            # tree_params_dict по X_data предсказывать grad\n",
        "            algo = DecisionTreeRegressor(**self.tree_params_dict).fit(X_data, grad)\n",
        "            self.estimators.append(algo)\n",
        "            # все предсказания домножаются на tau и обновляется переменная curr_pred\n",
        "            curr_pred += self.tau * algo.predict(X_data)\n",
        "    \n",
        "    def predict(self, X_data):\n",
        "        # изначально все предскзания нули\n",
        "        res = np.zeros(X_data.shape[0])\n",
        "        for estimator in self.estimators:\n",
        "            # нужно сложить все предсказания деревьев с весом self.tau\n",
        "            res += self.tau * estimator.predict(X_data)\n",
        "            \n",
        "        return (res > 0).astype(int)"
      ],
      "execution_count": 45,
      "outputs": []
    },
    {
      "cell_type": "markdown",
      "metadata": {
        "id": "bpWEzkDo8O3N"
      },
      "source": [
        "## Проверка качества полученного класса (в самом низу код для формы)\n",
        "\n",
        "Можете поиграться с параметрами, посмотрим, у кого получится самое лучшее качество"
      ]
    },
    {
      "cell_type": "code",
      "metadata": {
        "id": "XLicCavY8O3N"
      },
      "source": [
        "# для оценки качества\n",
        "from sklearn.model_selection import cross_val_score\n",
        "\n",
        "# для генерации датасетов\n",
        "from sklearn.datasets import make_classification\n",
        "\n",
        "# для сравнения\n",
        "from sklearn.tree import DecisionTreeClassifier\n",
        "from sklearn.linear_model import LogisticRegression\n",
        "from xgboost import XGBClassifier\n",
        "\n",
        "import warnings\n",
        "warnings.filterwarnings('ignore')"
      ],
      "execution_count": 46,
      "outputs": []
    },
    {
      "cell_type": "code",
      "metadata": {
        "id": "ULt_72h58O3N"
      },
      "source": [
        "X_data, y_data = make_classification(n_samples=1000, n_features=10, random_state=42)"
      ],
      "execution_count": 47,
      "outputs": []
    },
    {
      "cell_type": "code",
      "metadata": {
        "id": "SOmgaBNd8O3O"
      },
      "source": [
        "algo = SimpleGB(\n",
        "    tree_params_dict={\n",
        "        'max_depth':4\n",
        "    },\n",
        "    iters=100,\n",
        "    tau = 0.1\n",
        ")"
      ],
      "execution_count": 48,
      "outputs": []
    },
    {
      "cell_type": "code",
      "metadata": {
        "id": "MinkpKnEkDzO"
      },
      "source": [
        "algo.fit(X_data, y_data)"
      ],
      "execution_count": 42,
      "outputs": []
    },
    {
      "cell_type": "code",
      "metadata": {
        "id": "I-KP_Ec88O3O",
        "outputId": "4c414f31-9797-4ba7-8694-ec2b02569e1b",
        "colab": {
          "base_uri": "https://localhost:8080/"
        }
      },
      "source": [
        "np.mean(cross_val_score(algo, X_data, y_data, cv=5, scoring='accuracy'))"
      ],
      "execution_count": 49,
      "outputs": [
        {
          "output_type": "execute_result",
          "data": {
            "text/plain": [
              "0.9199999999999999"
            ]
          },
          "metadata": {
            "tags": []
          },
          "execution_count": 49
        }
      ]
    },
    {
      "cell_type": "code",
      "metadata": {
        "scrolled": true,
        "id": "UGuDXehp8O3P",
        "outputId": "903918c7-ba1d-4919-83f9-467982065c43",
        "colab": {
          "base_uri": "https://localhost:8080/"
        }
      },
      "source": [
        "np.mean(cross_val_score(DecisionTreeClassifier(), X_data, y_data, cv=5, scoring='accuracy'))"
      ],
      "execution_count": 50,
      "outputs": [
        {
          "output_type": "execute_result",
          "data": {
            "text/plain": [
              "0.858"
            ]
          },
          "metadata": {
            "tags": []
          },
          "execution_count": 50
        }
      ]
    },
    {
      "cell_type": "code",
      "metadata": {
        "id": "RbcFRlV58O3P",
        "outputId": "a028fca1-38f3-4c2e-c7e4-a32f4d285409",
        "colab": {
          "base_uri": "https://localhost:8080/"
        }
      },
      "source": [
        "np.mean(cross_val_score(XGBClassifier(), X_data, y_data, cv=5, scoring='accuracy'))"
      ],
      "execution_count": 51,
      "outputs": [
        {
          "output_type": "execute_result",
          "data": {
            "text/plain": [
              "0.9010000000000001"
            ]
          },
          "metadata": {
            "tags": []
          },
          "execution_count": 51
        }
      ]
    },
    {
      "cell_type": "code",
      "metadata": {
        "id": "Unx0LhTm8O3P",
        "outputId": "09017ed7-e356-4255-af43-52aa02241ae3",
        "colab": {
          "base_uri": "https://localhost:8080/"
        }
      },
      "source": [
        "np.mean(cross_val_score(LogisticRegression(), X_data, y_data, cv=5, scoring='accuracy'))"
      ],
      "execution_count": 52,
      "outputs": [
        {
          "output_type": "execute_result",
          "data": {
            "text/plain": [
              "0.8560000000000001"
            ]
          },
          "metadata": {
            "tags": []
          },
          "execution_count": 52
        }
      ]
    },
    {
      "cell_type": "markdown",
      "metadata": {
        "id": "5CFHlH7k8O3Q"
      },
      "source": [
        "**Значение для формы**"
      ]
    },
    {
      "cell_type": "code",
      "metadata": {
        "id": "I_77p0gA8O3Q",
        "outputId": "8d914705-c644-4f32-8fcb-b9fef3fbed6e",
        "colab": {
          "base_uri": "https://localhost:8080/"
        }
      },
      "source": [
        "print(round(np.mean(cross_val_score(SimpleGB(\n",
        "    tree_params_dict={\n",
        "        'max_depth': 4\n",
        "    },\n",
        "    iters=1000,\n",
        "    tau = 0.01\n",
        "), X_data, y_data, cv=4, scoring='accuracy')), 3))"
      ],
      "execution_count": 53,
      "outputs": [
        {
          "output_type": "stream",
          "text": [
            "0.925\n"
          ],
          "name": "stdout"
        }
      ]
    }
  ]
}